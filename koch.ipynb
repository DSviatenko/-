{
 "cells": [
  {
   "cell_type": "code",
   "execution_count": 7,
   "id": "9a1b9a19",
   "metadata": {},
   "outputs": [],
   "source": [
    "import turtle\n",
    "\n",
    "def koch_snowflake(t, order, size):\n",
    "    if order == 0:\n",
    "        t.forward(size)\n",
    "    else:\n",
    "        for angle in [60, -120, 60, 0]:\n",
    "            koch_snowflake(t, order-1, size/3)\n",
    "            t.left(angle)\n",
    "\n",
    "def main():\n",
    "    window = turtle.Screen()\n",
    "    window.bgcolor(\"white\")\n",
    "    window.title(\"Koch Snowflake\")\n",
    "\n",
    "    t = turtle.Turtle()\n",
    "    t.speed(0)\n",
    "    t.penup()\n",
    "    t.goto(-150, 90)\n",
    "    t.pendown()\n",
    "\n",
    "    # Змінна n визначає рівень рекурсії\n",
    "    n = 3\n",
    "    for i in range(3):\n",
    "        koch_snowflake(t, n, 300)\n",
    "        t.right(120)\n",
    "\n",
    "    window.mainloop()\n",
    "\n",
    "if __name__ == \"__main__\":\n",
    "    main()"
   ]
  },
  {
   "cell_type": "code",
   "execution_count": null,
   "id": "7b1181f7",
   "metadata": {},
   "outputs": [],
   "source": []
  }
 ],
 "metadata": {
  "kernelspec": {
   "display_name": "Python 3 (ipykernel)",
   "language": "python",
   "name": "python3"
  },
  "language_info": {
   "codemirror_mode": {
    "name": "ipython",
    "version": 3
   },
   "file_extension": ".py",
   "mimetype": "text/x-python",
   "name": "python",
   "nbconvert_exporter": "python",
   "pygments_lexer": "ipython3",
   "version": "3.11.5"
  }
 },
 "nbformat": 4,
 "nbformat_minor": 5
}
